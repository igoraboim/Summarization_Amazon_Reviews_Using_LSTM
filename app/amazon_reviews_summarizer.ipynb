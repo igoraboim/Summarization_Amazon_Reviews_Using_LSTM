{
 "cells": [
  {
   "cell_type": "markdown",
   "metadata": {
    "colab_type": "text",
    "id": "F5dSoP8lGMZi"
   },
   "source": [
    "# Summarization of Amazon Musical Instruments Reviews Using Deep Learning (LSTM)"
   ]
  },
  {
   "cell_type": "markdown",
   "metadata": {
    "colab_type": "text",
    "id": "F5dSoP8lGMZi"
   },
   "source": [
    "In this notebook, I will summarize Amazon Musical Instrument Reviews using a deep learning abstractive based method in Keras.\n",
    "\n",
    "Frequently, customer reviews are long and complex text data. When we are talking about large e-commerce like Amazon, it is an impossible task to perform the analysis on customer reviews manually. That is where the Natural Language Processing shines. Using state-of-the-art deep learning methods we can efficiently summarize the customer reviews and have cleaner data to work on tasks like a sentimental analysis.\n",
    "\n",
    "Also, we are going to compare the performance of the summarizer with the summary provided by the dataset.\n",
    "\n",
    "We will be working on a dataset that you can find in Kaggle (https://www.kaggle.com/eswarchandt/amazon-music-reviews)."
   ]
  },
  {
   "cell_type": "markdown",
   "metadata": {},
   "source": [
    "## Loading Packages"
   ]
  },
  {
   "cell_type": "code",
   "execution_count": 1,
   "metadata": {
    "_cell_guid": "b1076dfc-b9ad-4769-8c92-a6c4dae69d19",
    "_uuid": "8f2839f25d086af736a60e9eeb907d3b93b6e0e5",
    "colab": {},
    "colab_type": "code",
    "id": "_Jpu8qLEFxcY",
    "outputId": "95968e01-faac-4911-c802-9c008a4e62cf"
   },
   "outputs": [
    {
     "name": "stderr",
     "output_type": "stream",
     "text": [
      "Using TensorFlow backend.\n"
     ]
    }
   ],
   "source": [
    "import re\n",
    "import warnings\n",
    "import os\n",
    "\n",
    "import numpy as np\n",
    "import pandas as pd \n",
    "\n",
    "from nltk.corpus import stopwords\n",
    "from bs4 import BeautifulSoup\n",
    "import contractions\n",
    "import string\n",
    "\n",
    "import matplotlib.pyplot as plt\n",
    "import seaborn as sns\n",
    "plt.style.use('default')\n",
    "%matplotlib inline\n",
    "\n",
    "from sklearn.model_selection import train_test_split\n",
    "\n",
    "from attention import AttentionLayer\n",
    "\n",
    "import tensorflow as tf\n",
    "from keras.preprocessing.text import Tokenizer \n",
    "from keras.preprocessing.sequence import pad_sequences\n",
    "from tensorflow.keras.layers import Input, LSTM, Embedding, Dense, Concatenate, TimeDistributed\n",
    "from tensorflow.keras.models import Model\n",
    "from tensorflow.keras.callbacks import EarlyStopping\n",
    "pd.set_option(\"display.max_colwidth\", 200)\n",
    "warnings.filterwarnings(\"ignore\")"
   ]
  },
  {
   "cell_type": "markdown",
   "metadata": {
    "colab_type": "text",
    "id": "UVakjZ3oICgx"
   },
   "source": [
    "## Read the dataset"
   ]
  },
  {
   "cell_type": "markdown",
   "metadata": {
    "colab_type": "text",
    "id": "UVakjZ3oICgx"
   },
   "source": [
    "This dataset consists of reviews of Musical Instruments from Amazon. \n",
    "\n",
    "The Dataset contains reviewer ID , User ID, Reviewer Name, Reviewer text, helpful, Summary(obtained from Reviewer text),Overall Rating on a scale 5, Review time\n",
    "\n",
    "Description of columns in the file:\n",
    "\n",
    "- reviewerID - ID of the reviewer, e.g. A2SUAM1J3GNN3B\n",
    "- asin - ID of the product, e.g. 0000013714\n",
    "- reviewerName - name of the reviewer\n",
    "- helpful - helpfulness rating of the review, e.g. 2/3\n",
    "- reviewText - text of the review\n",
    "- overall - rating of the product\n",
    "- summary - summary of the review\n",
    "- unixReviewTime - time of the review (unix time)\n",
    "- reviewTime - time of the review (raw)"
   ]
  },
  {
   "cell_type": "code",
   "execution_count": 23,
   "metadata": {
    "colab": {},
    "colab_type": "code",
    "id": "wnK5o4Z1Fxcj"
   },
   "outputs": [],
   "source": [
    "df=pd.read_csv(\"../data/Musical_instruments_reviews.csv\")"
   ]
  },
  {
   "cell_type": "code",
   "execution_count": 24,
   "metadata": {},
   "outputs": [
    {
     "name": "stdout",
     "output_type": "stream",
     "text": [
      "<class 'pandas.core.frame.DataFrame'>\n",
      "RangeIndex: 10261 entries, 0 to 10260\n",
      "Data columns (total 9 columns):\n",
      " #   Column          Non-Null Count  Dtype  \n",
      "---  ------          --------------  -----  \n",
      " 0   reviewerID      10261 non-null  object \n",
      " 1   asin            10261 non-null  object \n",
      " 2   reviewerName    10234 non-null  object \n",
      " 3   helpful         10261 non-null  object \n",
      " 4   reviewText      10254 non-null  object \n",
      " 5   overall         10261 non-null  float64\n",
      " 6   summary         10261 non-null  object \n",
      " 7   unixReviewTime  10261 non-null  int64  \n",
      " 8   reviewTime      10261 non-null  object \n",
      "dtypes: float64(1), int64(1), object(7)\n",
      "memory usage: 721.6+ KB\n"
     ]
    }
   ],
   "source": [
    "df.info()"
   ]
  },
  {
   "cell_type": "code",
   "execution_count": 25,
   "metadata": {},
   "outputs": [
    {
     "data": {
      "text/html": [
       "<div>\n",
       "<style scoped>\n",
       "    .dataframe tbody tr th:only-of-type {\n",
       "        vertical-align: middle;\n",
       "    }\n",
       "\n",
       "    .dataframe tbody tr th {\n",
       "        vertical-align: top;\n",
       "    }\n",
       "\n",
       "    .dataframe thead th {\n",
       "        text-align: right;\n",
       "    }\n",
       "</style>\n",
       "<table border=\"1\" class=\"dataframe\">\n",
       "  <thead>\n",
       "    <tr style=\"text-align: right;\">\n",
       "      <th></th>\n",
       "      <th>reviewerID</th>\n",
       "      <th>asin</th>\n",
       "      <th>reviewerName</th>\n",
       "      <th>helpful</th>\n",
       "      <th>reviewText</th>\n",
       "      <th>overall</th>\n",
       "      <th>summary</th>\n",
       "      <th>unixReviewTime</th>\n",
       "      <th>reviewTime</th>\n",
       "    </tr>\n",
       "  </thead>\n",
       "  <tbody>\n",
       "    <tr>\n",
       "      <th>0</th>\n",
       "      <td>A2IBPI20UZIR0U</td>\n",
       "      <td>1384719342</td>\n",
       "      <td>cassandra tu \"Yeah, well, that's just like, u...</td>\n",
       "      <td>[0, 0]</td>\n",
       "      <td>Not much to write about here, but it does exactly what it's supposed to. filters out the pop sounds. now my recordings are much more crisp. it is one of the lowest prices pop filters on amazon so ...</td>\n",
       "      <td>5.0</td>\n",
       "      <td>good</td>\n",
       "      <td>1393545600</td>\n",
       "      <td>02 28, 2014</td>\n",
       "    </tr>\n",
       "    <tr>\n",
       "      <th>1</th>\n",
       "      <td>A14VAT5EAX3D9S</td>\n",
       "      <td>1384719342</td>\n",
       "      <td>Jake</td>\n",
       "      <td>[13, 14]</td>\n",
       "      <td>The product does exactly as it should and is quite affordable.I did not realized it was double screened until it arrived, so it was even better than I had expected.As an added bonus, one of the sc...</td>\n",
       "      <td>5.0</td>\n",
       "      <td>Jake</td>\n",
       "      <td>1363392000</td>\n",
       "      <td>03 16, 2013</td>\n",
       "    </tr>\n",
       "    <tr>\n",
       "      <th>2</th>\n",
       "      <td>A195EZSQDW3E21</td>\n",
       "      <td>1384719342</td>\n",
       "      <td>Rick Bennette \"Rick Bennette\"</td>\n",
       "      <td>[1, 1]</td>\n",
       "      <td>The primary job of this device is to block the breath that would otherwise produce a popping sound, while allowing your voice to pass through with no noticeable reduction of volume or high frequen...</td>\n",
       "      <td>5.0</td>\n",
       "      <td>It Does The Job Well</td>\n",
       "      <td>1377648000</td>\n",
       "      <td>08 28, 2013</td>\n",
       "    </tr>\n",
       "    <tr>\n",
       "      <th>3</th>\n",
       "      <td>A2C00NNG1ZQQG2</td>\n",
       "      <td>1384719342</td>\n",
       "      <td>RustyBill \"Sunday Rocker\"</td>\n",
       "      <td>[0, 0]</td>\n",
       "      <td>Nice windscreen protects my MXL mic and prevents pops. Only thing is that the gooseneck is only marginally able to hold the screen in position and requires careful positioning of the clamp to avoi...</td>\n",
       "      <td>5.0</td>\n",
       "      <td>GOOD WINDSCREEN FOR THE MONEY</td>\n",
       "      <td>1392336000</td>\n",
       "      <td>02 14, 2014</td>\n",
       "    </tr>\n",
       "    <tr>\n",
       "      <th>4</th>\n",
       "      <td>A94QU4C90B1AX</td>\n",
       "      <td>1384719342</td>\n",
       "      <td>SEAN MASLANKA</td>\n",
       "      <td>[0, 0]</td>\n",
       "      <td>This pop filter is great. It looks and performs like a studio filter. If you're recording vocals this will eliminate the pops that gets recorded when you sing.</td>\n",
       "      <td>5.0</td>\n",
       "      <td>No more pops when I record my vocals.</td>\n",
       "      <td>1392940800</td>\n",
       "      <td>02 21, 2014</td>\n",
       "    </tr>\n",
       "  </tbody>\n",
       "</table>\n",
       "</div>"
      ],
      "text/plain": [
       "       reviewerID        asin  \\\n",
       "0  A2IBPI20UZIR0U  1384719342   \n",
       "1  A14VAT5EAX3D9S  1384719342   \n",
       "2  A195EZSQDW3E21  1384719342   \n",
       "3  A2C00NNG1ZQQG2  1384719342   \n",
       "4   A94QU4C90B1AX  1384719342   \n",
       "\n",
       "                                       reviewerName   helpful  \\\n",
       "0  cassandra tu \"Yeah, well, that's just like, u...    [0, 0]   \n",
       "1                                              Jake  [13, 14]   \n",
       "2                     Rick Bennette \"Rick Bennette\"    [1, 1]   \n",
       "3                         RustyBill \"Sunday Rocker\"    [0, 0]   \n",
       "4                                     SEAN MASLANKA    [0, 0]   \n",
       "\n",
       "                                                                                                                                                                                                reviewText  \\\n",
       "0  Not much to write about here, but it does exactly what it's supposed to. filters out the pop sounds. now my recordings are much more crisp. it is one of the lowest prices pop filters on amazon so ...   \n",
       "1  The product does exactly as it should and is quite affordable.I did not realized it was double screened until it arrived, so it was even better than I had expected.As an added bonus, one of the sc...   \n",
       "2  The primary job of this device is to block the breath that would otherwise produce a popping sound, while allowing your voice to pass through with no noticeable reduction of volume or high frequen...   \n",
       "3  Nice windscreen protects my MXL mic and prevents pops. Only thing is that the gooseneck is only marginally able to hold the screen in position and requires careful positioning of the clamp to avoi...   \n",
       "4                                          This pop filter is great. It looks and performs like a studio filter. If you're recording vocals this will eliminate the pops that gets recorded when you sing.   \n",
       "\n",
       "   overall                                summary  unixReviewTime   reviewTime  \n",
       "0      5.0                                   good      1393545600  02 28, 2014  \n",
       "1      5.0                                   Jake      1363392000  03 16, 2013  \n",
       "2      5.0                   It Does The Job Well      1377648000  08 28, 2013  \n",
       "3      5.0          GOOD WINDSCREEN FOR THE MONEY      1392336000  02 14, 2014  \n",
       "4      5.0  No more pops when I record my vocals.      1392940800  02 21, 2014  "
      ]
     },
     "execution_count": 25,
     "metadata": {},
     "output_type": "execute_result"
    }
   ],
   "source": [
    "df.head()"
   ]
  },
  {
   "cell_type": "markdown",
   "metadata": {
    "colab_type": "text",
    "id": "kGNQKvCaISIn"
   },
   "source": [
    "## Drop Duplicates and NA values"
   ]
  },
  {
   "cell_type": "code",
   "execution_count": 26,
   "metadata": {
    "colab": {},
    "colab_type": "code",
    "id": "Cjul88oOFxcr"
   },
   "outputs": [],
   "source": [
    "df.drop_duplicates(subset=['reviewText'],inplace=True)#dropping duplicates\n",
    "df.dropna(subset=['reviewText'],axis=0,inplace=True)#dropping na"
   ]
  },
  {
   "cell_type": "code",
   "execution_count": 27,
   "metadata": {},
   "outputs": [
    {
     "name": "stdout",
     "output_type": "stream",
     "text": [
      "<class 'pandas.core.frame.DataFrame'>\n",
      "Int64Index: 10254 entries, 0 to 10260\n",
      "Data columns (total 9 columns):\n",
      " #   Column          Non-Null Count  Dtype  \n",
      "---  ------          --------------  -----  \n",
      " 0   reviewerID      10254 non-null  object \n",
      " 1   asin            10254 non-null  object \n",
      " 2   reviewerName    10227 non-null  object \n",
      " 3   helpful         10254 non-null  object \n",
      " 4   reviewText      10254 non-null  object \n",
      " 5   overall         10254 non-null  float64\n",
      " 6   summary         10254 non-null  object \n",
      " 7   unixReviewTime  10254 non-null  int64  \n",
      " 8   reviewTime      10254 non-null  object \n",
      "dtypes: float64(1), int64(1), object(7)\n",
      "memory usage: 801.1+ KB\n"
     ]
    }
   ],
   "source": [
    "df.info()"
   ]
  },
  {
   "cell_type": "code",
   "execution_count": 28,
   "metadata": {},
   "outputs": [
    {
     "name": "stdout",
     "output_type": "stream",
     "text": [
      "Not much to write about here, but it does exactly what it's supposed to. filters out the pop sounds. now my recordings are much more crisp. it is one of the lowest prices pop filters on amazon so might as well buy it, they honestly work the same despite their pricing,\n",
      "The product does exactly as it should and is quite affordable.I did not realized it was double screened until it arrived, so it was even better than I had expected.As an added bonus, one of the screens carries a small hint of the smell of an old grape candy I used to buy, so for reminiscent's sake, I cannot stop putting the pop filter next to my nose and smelling it after recording. :DIf you needed a pop filter, this will work just as well as the expensive ones, and it may even come with a pleasing aroma like mine did!Buy this product! :]\n",
      "The primary job of this device is to block the breath that would otherwise produce a popping sound, while allowing your voice to pass through with no noticeable reduction of volume or high frequencies. The double cloth filter blocks the pops and lets the voice through with no coloration. The metal clamp mount attaches to the mike stand secure enough to keep it attached. The goose neck needs a little coaxing to stay where you put it.\n",
      "Nice windscreen protects my MXL mic and prevents pops. Only thing is that the gooseneck is only marginally able to hold the screen in position and requires careful positioning of the clamp to avoid sagging.\n",
      "This pop filter is great. It looks and performs like a studio filter. If you're recording vocals this will eliminate the pops that gets recorded when you sing.\n",
      "So good that I bought another one.  Love the heavy cord and gold connectors.  Bass sounds great.  I just learned last night how to coil them up.  I guess I should read instructions more carefully.  But no harm done, still works great!\n",
      "I have used monster cables for years, and with good reason. The lifetime warranty is worth the price alone. Simple fact: cables break, but getting to replace them at no cost is where it's at.\n",
      "I now use this cable to run from the output of my pedal chain to the input of my Fender Amp. After I bought Monster Cable to hook up my pedal board I thought I would try another one and update my guitar. I had been using a high end Planet Waves cable that I bought in the 1980's... Once I found out the input jacks on the new Monster cable didn't fit into the Fender Strat jack I was a little disappointed... I didn't return it and as stated I use it for the output on the pedal board. Save your money... I went back to my Planet Waves Cable...I payed $30.00 back in the eighties for the Planet Waves which now comes in at around $50.00. What I'm getting at is you get what you pay for. I thought Waves was a lot of money back in the day...but I haven't bought a guitar cable since this one...20 plus years and still working...Planet Waves wins.\n",
      "Perfect for my Epiphone Sheraton II.  Monster cables are well constructed.  I have several and never had any problems with any of them over the years.  Got this one because I wanted the 90 degree plug.\n"
     ]
    }
   ],
   "source": [
    "for i in range(9):\n",
    "    print(df['reviewText'][i])"
   ]
  },
  {
   "cell_type": "markdown",
   "metadata": {
    "colab_type": "text",
    "id": "r0xLYACiFxdJ"
   },
   "source": [
    "## Preprocessing"
   ]
  },
  {
   "cell_type": "markdown",
   "metadata": {
    "colab_type": "text",
    "id": "r0xLYACiFxdJ"
   },
   "source": [
    "Performing basic preprocessing steps is very important before we get to the model building part. Using messy and uncleaned text data is a potentially disastrous move. So in this step, we will drop all the unwanted symbols, characters, etc. from the text that do not affect the objective of our problem."
   ]
  },
  {
   "cell_type": "markdown",
   "metadata": {
    "colab_type": "text",
    "id": "2JFRXFHmI7Mj"
   },
   "source": [
    "### 1. Cleaning the data\n",
    "\n",
    "We will perform the below preprocessing tasks for our data:\n",
    "\n",
    "    I. Convert everything to lowercase\n",
    "\n",
    "    II. Expanding Contraction\n",
    "\n",
    "    III. Remove punctuation and special characters\n",
    "\n",
    "    IV. Remove stopwords\n",
    "\n",
    "Let’s define the function:"
   ]
  },
  {
   "cell_type": "code",
   "execution_count": 44,
   "metadata": {
    "colab": {},
    "colab_type": "code",
    "id": "XZr-u3OEFxdT"
   },
   "outputs": [],
   "source": [
    "sw = stopwords.words('english')\n",
    "\n",
    "def clean_text(text):\n",
    "    text = contractions.fix(text)      \n",
    "    text = ''.join([word.lower() for word in text if word not in string.punctuation])\n",
    "    tokens = re.split('\\W+', text)\n",
    "    text = ' '.join([word for word in tokens if word not in sw])\n",
    "    return text"
   ]
  },
  {
   "cell_type": "markdown",
   "metadata": {},
   "source": [
    "Applying the function to the Body Text"
   ]
  },
  {
   "cell_type": "code",
   "execution_count": 45,
   "metadata": {
    "colab": {},
    "colab_type": "code",
    "id": "A2QAeCHWFxdY"
   },
   "outputs": [],
   "source": [
    "cleanReviewText = df['reviewText'].apply(lambda x: clean_text(x))"
   ]
  },
  {
   "cell_type": "markdown",
   "metadata": {
    "colab_type": "text",
    "id": "snRZY8wjLao2"
   },
   "source": [
    "Let's have a look at the first cleaned and tokenized review text"
   ]
  },
  {
   "cell_type": "code",
   "execution_count": 46,
   "metadata": {
    "colab": {},
    "colab_type": "code",
    "id": "NCAIkhWbFxdh",
    "outputId": "c2da1a36-4488-4e32-ef9e-fcfe496e374d"
   },
   "outputs": [
    {
     "data": {
      "text/plain": [
       "'much write exactly supposed filters pop sounds recordings much crisp one lowest prices pop filters amazon might well buy honestly work despite pricing'"
      ]
     },
     "execution_count": 46,
     "metadata": {},
     "output_type": "execute_result"
    }
   ],
   "source": [
    "cleanReviewText[0]"
   ]
  },
  {
   "cell_type": "markdown",
   "metadata": {},
   "source": [
    "Applying the function to the Summary Text"
   ]
  },
  {
   "cell_type": "code",
   "execution_count": 47,
   "metadata": {
    "colab": {},
    "colab_type": "code",
    "id": "GsRXocxoFxd-"
   },
   "outputs": [],
   "source": [
    "cleanSummary = df['summary'].apply(lambda x: clean_text(x))"
   ]
  },
  {
   "cell_type": "markdown",
   "metadata": {
    "colab_type": "text",
    "id": "oZeD0gs6Lnb-"
   },
   "source": [
    "Let's have a look at the first cleaned and tokenized review summary text"
   ]
  },
  {
   "cell_type": "code",
   "execution_count": 48,
   "metadata": {
    "colab": {},
    "colab_type": "code",
    "id": "jQJdZcAzFxee",
    "outputId": "a1fbe683-c03f-4afb-addf-e075021c121b"
   },
   "outputs": [
    {
     "data": {
      "text/plain": [
       "'good'"
      ]
     },
     "execution_count": 48,
     "metadata": {},
     "output_type": "execute_result"
    }
   ],
   "source": [
    "cleanSummary[0]"
   ]
  },
  {
   "cell_type": "code",
   "execution_count": 49,
   "metadata": {
    "colab": {},
    "colab_type": "code",
    "id": "L1zLpnqsFxey"
   },
   "outputs": [],
   "source": [
    "df['cleanReviewText']=cleanReviewText\n",
    "df['cleanSummary']=cleanSummary"
   ]
  },
  {
   "cell_type": "code",
   "execution_count": 50,
   "metadata": {},
   "outputs": [
    {
     "data": {
      "text/plain": [
       "0                                                good\n",
       "1                                                jake\n",
       "2                                            job well\n",
       "3                               good windscreen money\n",
       "4                                  pops record vocals\n",
       "                             ...                     \n",
       "10256                                      five stars\n",
       "10257          long life players good economic choice\n",
       "10258                                     good coated\n",
       "10259                                     taylor made\n",
       "10260    strings really quite good would call perfect\n",
       "Name: cleanSummary, Length: 10254, dtype: object"
      ]
     },
     "execution_count": 50,
     "metadata": {},
     "output_type": "execute_result"
    }
   ],
   "source": [
    "df['cleanSummary']"
   ]
  },
  {
   "cell_type": "markdown",
   "metadata": {
    "colab_type": "text",
    "id": "KT_D2cLiLy77"
   },
   "source": [
    "Remove empty rows"
   ]
  },
  {
   "cell_type": "code",
   "execution_count": 51,
   "metadata": {},
   "outputs": [
    {
     "name": "stdout",
     "output_type": "stream",
     "text": [
      "<class 'pandas.core.frame.DataFrame'>\n",
      "Int64Index: 10254 entries, 0 to 10260\n",
      "Data columns (total 11 columns):\n",
      " #   Column           Non-Null Count  Dtype  \n",
      "---  ------           --------------  -----  \n",
      " 0   reviewerID       10254 non-null  object \n",
      " 1   asin             10254 non-null  object \n",
      " 2   reviewerName     10227 non-null  object \n",
      " 3   helpful          10254 non-null  object \n",
      " 4   reviewText       10254 non-null  object \n",
      " 5   overall          10254 non-null  float64\n",
      " 6   summary          10254 non-null  object \n",
      " 7   unixReviewTime   10254 non-null  int64  \n",
      " 8   reviewTime       10254 non-null  object \n",
      " 9   cleanReviewText  10254 non-null  object \n",
      " 10  cleanSummary     10254 non-null  object \n",
      "dtypes: float64(1), int64(1), object(9)\n",
      "memory usage: 1.3+ MB\n"
     ]
    }
   ],
   "source": [
    "df.info()"
   ]
  },
  {
   "cell_type": "markdown",
   "metadata": {},
   "source": [
    "Splitting the Data into Train (90%) and Test (10%) sets"
   ]
  },
  {
   "cell_type": "markdown",
   "metadata": {
    "colab_type": "text",
    "id": "SiU3Q6styFTL"
   },
   "source": [
    "### Identify Avg. `Review` & `Summary` Lengths for Trimming "
   ]
  },
  {
   "cell_type": "code",
   "execution_count": 84,
   "metadata": {},
   "outputs": [
    {
     "data": {
      "text/plain": [
       "['good']"
      ]
     },
     "execution_count": 84,
     "metadata": {},
     "output_type": "execute_result"
    }
   ],
   "source": []
  },
  {
   "cell_type": "code",
   "execution_count": 81,
   "metadata": {},
   "outputs": [
    {
     "ename": "TypeError",
     "evalue": "'Series' object is not callable",
     "output_type": "error",
     "traceback": [
      "\u001b[1;31m---------------------------------------------------------------------------\u001b[0m",
      "\u001b[1;31mTypeError\u001b[0m                                 Traceback (most recent call last)",
      "\u001b[1;32m<ipython-input-81-d483f33108d5>\u001b[0m in \u001b[0;36m<module>\u001b[1;34m\u001b[0m\n\u001b[1;32m----> 1\u001b[1;33m \u001b[0msplit_text\u001b[0m\u001b[1;33m(\u001b[0m\u001b[0mnp\u001b[0m\u001b[1;33m.\u001b[0m\u001b[0marray\u001b[0m\u001b[1;33m(\u001b[0m\u001b[0mdf\u001b[0m\u001b[1;33m[\u001b[0m\u001b[1;34m'cleanReviewText'\u001b[0m\u001b[1;33m]\u001b[0m\u001b[1;33m[\u001b[0m\u001b[1;36m0\u001b[0m\u001b[1;33m]\u001b[0m\u001b[1;33m)\u001b[0m\u001b[1;33m)\u001b[0m\u001b[1;33m\u001b[0m\u001b[1;33m\u001b[0m\u001b[0m\n\u001b[0m",
      "\u001b[1;31mTypeError\u001b[0m: 'Series' object is not callable"
     ]
    }
   ],
   "source": [
    "split_text(np.array(df['cleanReviewText'][0]))"
   ]
  },
  {
   "cell_type": "code",
   "execution_count": 75,
   "metadata": {},
   "outputs": [
    {
     "ename": "TypeError",
     "evalue": "'Series' object is not callable",
     "output_type": "error",
     "traceback": [
      "\u001b[1;31m---------------------------------------------------------------------------\u001b[0m",
      "\u001b[1;31mTypeError\u001b[0m                                 Traceback (most recent call last)",
      "\u001b[1;32m<ipython-input-75-fa628ced2a62>\u001b[0m in \u001b[0;36m<module>\u001b[1;34m\u001b[0m\n\u001b[1;32m----> 1\u001b[1;33m \u001b[0mdf\u001b[0m\u001b[1;33m[\u001b[0m\u001b[1;34m'cleanReviewText'\u001b[0m\u001b[1;33m]\u001b[0m\u001b[1;33m.\u001b[0m\u001b[0mapply\u001b[0m\u001b[1;33m(\u001b[0m\u001b[1;32mlambda\u001b[0m \u001b[0mx\u001b[0m\u001b[1;33m:\u001b[0m \u001b[0msplit_text\u001b[0m\u001b[1;33m(\u001b[0m\u001b[0mx\u001b[0m\u001b[1;33m)\u001b[0m\u001b[1;33m)\u001b[0m\u001b[1;33m\u001b[0m\u001b[1;33m\u001b[0m\u001b[0m\n\u001b[0m",
      "\u001b[1;32mC:\\ProgramData\\Anaconda3\\envs\\py377\\lib\\site-packages\\pandas\\core\\series.py\u001b[0m in \u001b[0;36mapply\u001b[1;34m(self, func, convert_dtype, args, **kwds)\u001b[0m\n\u001b[0;32m   4198\u001b[0m             \u001b[1;32melse\u001b[0m\u001b[1;33m:\u001b[0m\u001b[1;33m\u001b[0m\u001b[1;33m\u001b[0m\u001b[0m\n\u001b[0;32m   4199\u001b[0m                 \u001b[0mvalues\u001b[0m \u001b[1;33m=\u001b[0m \u001b[0mself\u001b[0m\u001b[1;33m.\u001b[0m\u001b[0mastype\u001b[0m\u001b[1;33m(\u001b[0m\u001b[0mobject\u001b[0m\u001b[1;33m)\u001b[0m\u001b[1;33m.\u001b[0m\u001b[0m_values\u001b[0m\u001b[1;33m\u001b[0m\u001b[1;33m\u001b[0m\u001b[0m\n\u001b[1;32m-> 4200\u001b[1;33m                 \u001b[0mmapped\u001b[0m \u001b[1;33m=\u001b[0m \u001b[0mlib\u001b[0m\u001b[1;33m.\u001b[0m\u001b[0mmap_infer\u001b[0m\u001b[1;33m(\u001b[0m\u001b[0mvalues\u001b[0m\u001b[1;33m,\u001b[0m \u001b[0mf\u001b[0m\u001b[1;33m,\u001b[0m \u001b[0mconvert\u001b[0m\u001b[1;33m=\u001b[0m\u001b[0mconvert_dtype\u001b[0m\u001b[1;33m)\u001b[0m\u001b[1;33m\u001b[0m\u001b[1;33m\u001b[0m\u001b[0m\n\u001b[0m\u001b[0;32m   4201\u001b[0m \u001b[1;33m\u001b[0m\u001b[0m\n\u001b[0;32m   4202\u001b[0m         \u001b[1;32mif\u001b[0m \u001b[0mlen\u001b[0m\u001b[1;33m(\u001b[0m\u001b[0mmapped\u001b[0m\u001b[1;33m)\u001b[0m \u001b[1;32mand\u001b[0m \u001b[0misinstance\u001b[0m\u001b[1;33m(\u001b[0m\u001b[0mmapped\u001b[0m\u001b[1;33m[\u001b[0m\u001b[1;36m0\u001b[0m\u001b[1;33m]\u001b[0m\u001b[1;33m,\u001b[0m \u001b[0mSeries\u001b[0m\u001b[1;33m)\u001b[0m\u001b[1;33m:\u001b[0m\u001b[1;33m\u001b[0m\u001b[1;33m\u001b[0m\u001b[0m\n",
      "\u001b[1;32mpandas\\_libs\\lib.pyx\u001b[0m in \u001b[0;36mpandas._libs.lib.map_infer\u001b[1;34m()\u001b[0m\n",
      "\u001b[1;32m<ipython-input-75-fa628ced2a62>\u001b[0m in \u001b[0;36m<lambda>\u001b[1;34m(x)\u001b[0m\n\u001b[1;32m----> 1\u001b[1;33m \u001b[0mdf\u001b[0m\u001b[1;33m[\u001b[0m\u001b[1;34m'cleanReviewText'\u001b[0m\u001b[1;33m]\u001b[0m\u001b[1;33m.\u001b[0m\u001b[0mapply\u001b[0m\u001b[1;33m(\u001b[0m\u001b[1;32mlambda\u001b[0m \u001b[0mx\u001b[0m\u001b[1;33m:\u001b[0m \u001b[0msplit_text\u001b[0m\u001b[1;33m(\u001b[0m\u001b[0mx\u001b[0m\u001b[1;33m)\u001b[0m\u001b[1;33m)\u001b[0m\u001b[1;33m\u001b[0m\u001b[1;33m\u001b[0m\u001b[0m\n\u001b[0m",
      "\u001b[1;31mTypeError\u001b[0m: 'Series' object is not callable"
     ]
    }
   ],
   "source": [
    "df['cleanReviewText'].apply(lambda x: split_text(x))"
   ]
  },
  {
   "cell_type": "code",
   "execution_count": 108,
   "metadata": {
    "colab": {},
    "colab_type": "code",
    "id": "njWXzyNSyFTP"
   },
   "outputs": [],
   "source": [
    "splitdf = pd.DataFrame()\n",
    "splitdf['review'] = [text.split() for text in df['cleanReviewText']]\n",
    "splitdf['summary'] = [text.split() for text in df['cleanSummary']]\n",
    "review_lengths = splitdf['review'].apply(len)\n",
    "summary_lengths = splitdf['summary'].apply(len)"
   ]
  },
  {
   "cell_type": "code",
   "execution_count": 109,
   "metadata": {
    "colab": {
     "base_uri": "https://localhost:8080/",
     "height": 374
    },
    "colab_type": "code",
    "id": "1TChn2UsyFTS",
    "outputId": "f96037f7-5523-4cc3-b4e2-a56e292d24e1"
   },
   "outputs": [
    {
     "data": {
      "image/png": "[encoded data removed]",
      "text/plain": [
       "<Figure size 1296x432 with 2 Axes>"
      ]
     },
     "metadata": {
      "needs_background": "light"
     },
     "output_type": "display_data"
    }
   ],
   "source": [
    "fig, ax = plt.subplots(nrows=1, ncols=2, figsize=(18, 6))\n",
    "sns.distplot(review_lengths, ax=ax[0])\n",
    "sns.distplot(summary_lengths, ax=ax[1])\n",
    "fig.show()"
   ]
  },
  {
   "cell_type": "code",
   "execution_count": 110,
   "metadata": {
    "colab": {
     "base_uri": "https://localhost:8080/",
     "height": 70
    },
    "colab_type": "code",
    "id": "N1d5y3GVyFTV",
    "outputId": "0ac68487-d012-4aca-ab82-4971d5fc2cc1"
   },
   "outputs": [
    {
     "name": "stdout",
     "output_type": "stream",
     "text": [
      "median review length is: 26 words\n",
      "median summary length is: 3 words\n"
     ]
    }
   ],
   "source": [
    "print(f'median review length is: {int(review_lengths.median())} words')\n",
    "print(f'median summary length is: {int(summary_lengths.median())} words')"
   ]
  },
  {
   "cell_type": "code",
   "execution_count": 111,
   "metadata": {},
   "outputs": [
    {
     "data": {
      "text/plain": [
       "'one best instrument cables within brand'"
      ]
     },
     "execution_count": 111,
     "metadata": {},
     "output_type": "execute_result"
    }
   ],
   "source": [
    "cleanSummary[10]"
   ]
  },
  {
   "cell_type": "code",
   "execution_count": 112,
   "metadata": {
    "colab": {
     "base_uri": "https://localhost:8080/",
     "height": 70
    },
    "colab_type": "code",
    "id": "llsJvgpK3iwP",
    "outputId": "12e069ec-1ff3-4117-bf75-787233d86bea"
   },
   "outputs": [
    {
     "name": "stdout",
     "output_type": "stream",
     "text": [
      "Proportion of Reviews under 100 words in length: 0.91\n",
      "Proportion of Summary under 8 words in length: 0.99\n"
     ]
    }
   ],
   "source": [
    "count_review = 0\n",
    "count_summary = 0\n",
    "\n",
    "for i in review_lengths:\n",
    "    if(i <= 100):\n",
    "        count_review += 1\n",
    "\n",
    "for i in summary_lengths:\n",
    "    if(i <= 8):\n",
    "        count_summary += 1\n",
    "\n",
    "print(f'Proportion of Reviews under 100 words in length: {round(count_review / len(df), 2)}')\n",
    "print(f'Proportion of Summary under 8 words in length: {round(count_summary / len(df), 2)}')"
   ]
  },
  {
   "cell_type": "code",
   "execution_count": 113,
   "metadata": {},
   "outputs": [],
   "source": [
    "max_review_len = 100\n",
    "max_summary_len = 8"
   ]
  },
  {
   "cell_type": "markdown",
   "metadata": {
    "colab_type": "text",
    "id": "RzvLwYL_PDcx"
   },
   "source": [
    "## Identifying and Removing Rare Words"
   ]
  },
  {
   "cell_type": "markdown",
   "metadata": {},
   "source": [
    "### 1. Body Text"
   ]
  },
  {
   "cell_type": "markdown",
   "metadata": {
    "colab_type": "text",
    "id": "RzvLwYL_PDcx"
   },
   "source": [
    "Let's investigate the occurence of Rare Words in a sentence and remove them."
   ]
  },
  {
   "cell_type": "code",
   "execution_count": 114,
   "metadata": {},
   "outputs": [],
   "source": [
    "df['cleanSummary'] = df['cleanSummary'].apply(lambda x : 'sostok '+ x + ' eostok') # Adding start and end tokens to the summaries"
   ]
  },
  {
   "cell_type": "code",
   "execution_count": 115,
   "metadata": {
    "colab": {},
    "colab_type": "code",
    "id": "RakakKHcFxhl"
   },
   "outputs": [],
   "source": [
    "X_train,X_test,y_train,y_test = train_test_split(df['cleanReviewText'],df['cleanSummary'],test_size=0.1,random_state=5,shuffle=True) "
   ]
  },
  {
   "cell_type": "code",
   "execution_count": 116,
   "metadata": {},
   "outputs": [],
   "source": [
    "# Train the tokenizer and use that tokenizer to convert the sentences to sequences of numbers"
   ]
  },
  {
   "cell_type": "code",
   "execution_count": 117,
   "metadata": {
    "colab": {},
    "colab_type": "code",
    "id": "oRHTgX6hFxhq"
   },
   "outputs": [],
   "source": [
    "tokenizer = Tokenizer() \n",
    "tokenizer.fit_on_texts(X_train)\n",
    "X_train_seq = tokenizer.texts_to_sequences(X_train)\n",
    "X_test_seq = tokenizer.texts_to_sequences(X_test)"
   ]
  },
  {
   "cell_type": "code",
   "execution_count": 118,
   "metadata": {
    "colab": {},
    "colab_type": "code",
    "id": "y8KronV2Fxhx",
    "outputId": "d2eb2f27-fbbc-4e61-9556-3c3ff5e4327b"
   },
   "outputs": [
    {
     "name": "stdout",
     "output_type": "stream",
     "text": [
      "% of rare words in vocabulary: 76.32699979714653\n",
      "Total Coverage of rare words: 7.002904762705634\n"
     ]
    }
   ],
   "source": [
    "thresh=4\n",
    "\n",
    "count=0\n",
    "total_count=0\n",
    "frequency=0\n",
    "total_frequency=0\n",
    "\n",
    "for key,value in tokenizer.word_counts.items():\n",
    "    total_count=total_count+1\n",
    "    total_frequency=total_frequency+value\n",
    "    if(value<thresh):\n",
    "        count=count+1\n",
    "        frequency=frequency+value\n",
    "    \n",
    "print(\"% of rare words in vocabulary:\",(count/total_count)*100)\n",
    "print(\"Total Coverage of rare words:\",(frequency/total_frequency)*100)"
   ]
  },
  {
   "cell_type": "markdown",
   "metadata": {},
   "source": [
    "Removing Rare Words from the Tokenizer"
   ]
  },
  {
   "cell_type": "code",
   "execution_count": 119,
   "metadata": {
    "colab": {},
    "colab_type": "code",
    "id": "J2giEsF3Fxh3"
   },
   "outputs": [],
   "source": [
    "# Train the tokenizer and use that tokenizer to convert the sentences to sequences of numbers\n",
    "Xtokenizer = Tokenizer(num_words=total_count-count) \n",
    "Xtokenizer.fit_on_texts(X_train)\n",
    "\n",
    "# Fit the tokenizer to X_train and X_text data\n",
    "X_train_seq    =   Xtokenizer.texts_to_sequences(X_train) \n",
    "X_test_seq   =   Xtokenizer.texts_to_sequences(X_test)\n",
    "\n",
    "#padding zero up to maximum length\n",
    "X_train    =   pad_sequences(X_train_seq,  maxlen=max_review_len, padding='post')\n",
    "X_test   =   pad_sequences(X_test_seq, maxlen=max_review_len, padding='post')\n",
    "\n",
    "#size of vocabulary ( +1 for padding token)\n",
    "X_vocabulary   =  Xtokenizer.num_words + 1"
   ]
  },
  {
   "cell_type": "code",
   "execution_count": 120,
   "metadata": {
    "colab": {},
    "colab_type": "code",
    "id": "DCbGMsm4FxiA",
    "outputId": "2d9165f0-e542-4114-91f3-e070d483fce9"
   },
   "outputs": [
    {
     "data": {
      "text/plain": [
       "7003"
      ]
     },
     "execution_count": 120,
     "metadata": {},
     "output_type": "execute_result"
    }
   ],
   "source": [
    "X_vocabulary"
   ]
  },
  {
   "cell_type": "markdown",
   "metadata": {
    "colab_type": "text",
    "id": "uQfKP3sqRxi9"
   },
   "source": [
    "### 2. Summary"
   ]
  },
  {
   "cell_type": "markdown",
   "metadata": {},
   "source": [
    "In this section we investigate the occurence of rare words in the Summary Text and remove them from the vocabulary. Here we consider words that occurr less than 4 times as Rare"
   ]
  },
  {
   "cell_type": "code",
   "execution_count": 121,
   "metadata": {
    "colab": {},
    "colab_type": "code",
    "id": "eRHqyBkBFxiJ"
   },
   "outputs": [],
   "source": [
    "tokenizer = Tokenizer()   \n",
    "tokenizer.fit_on_texts(list(y_train))"
   ]
  },
  {
   "cell_type": "code",
   "execution_count": 122,
   "metadata": {
    "colab": {},
    "colab_type": "code",
    "id": "yzE5OiRLFxiM",
    "outputId": "7f7a4f89-b088-4847-8172-09e5a2383d0e"
   },
   "outputs": [
    {
     "name": "stdout",
     "output_type": "stream",
     "text": [
      "% of rare words in vocabulary: 76.3430498675018\n",
      "Total Coverage of rare words: 9.489880666171263\n"
     ]
    }
   ],
   "source": [
    "thresh=4\n",
    "\n",
    "count=0\n",
    "total_count=0\n",
    "frequency=0\n",
    "total_frequency=0\n",
    "\n",
    "for key,value in tokenizer.word_counts.items():\n",
    "    total_count=total_count+1\n",
    "    total_frequency=total_frequency+value\n",
    "    if(value<thresh):\n",
    "        count=count+1\n",
    "        frequency=frequency+value\n",
    "    \n",
    "print(\"% of rare words in vocabulary:\",(count/total_count)*100)\n",
    "print(\"Total Coverage of rare words:\",(frequency/total_frequency)*100)"
   ]
  },
  {
   "cell_type": "markdown",
   "metadata": {
    "colab_type": "text",
    "id": "0PBhzKuRSw_9"
   },
   "source": [
    "Let us define the tokenizer with top most common words for summary."
   ]
  },
  {
   "cell_type": "code",
   "execution_count": 123,
   "metadata": {
    "colab": {},
    "colab_type": "code",
    "id": "-fswLvIgFxiR"
   },
   "outputs": [],
   "source": [
    "#prepare a tokenizer for reviews on training data\n",
    "Ytokenizer = Tokenizer(num_words=total_count-count) \n",
    "Ytokenizer.fit_on_texts(list(y_train))\n",
    "\n",
    "#convert text sequences into integer sequences\n",
    "y_train_seq    =   Ytokenizer.texts_to_sequences(y_train) \n",
    "y_test_seq   =   Ytokenizer.texts_to_sequences(y_test) \n",
    "\n",
    "#padding zero upto maximum length\n",
    "y_train    =   pad_sequences(y_train_seq, maxlen=max_summary_len, padding='post')\n",
    "y_test   =   pad_sequences(y_test_seq, maxlen=max_summary_len, padding='post')\n",
    "\n",
    "#size of vocabulary\n",
    "y_vocabulary  =   Ytokenizer.num_words +1"
   ]
  },
  {
   "cell_type": "code",
   "execution_count": 124,
   "metadata": {},
   "outputs": [
    {
     "data": {
      "text/plain": [
       "983"
      ]
     },
     "execution_count": 124,
     "metadata": {},
     "output_type": "execute_result"
    }
   ],
   "source": [
    "y_vocabulary"
   ]
  },
  {
   "cell_type": "code",
   "execution_count": 126,
   "metadata": {},
   "outputs": [
    {
     "data": {
      "text/plain": [
       "(9228, 9228)"
      ]
     },
     "execution_count": 126,
     "metadata": {},
     "output_type": "execute_result"
    }
   ],
   "source": [
    "Ytokenizer.word_counts['sostok'],len(y_train)"
   ]
  },
  {
   "cell_type": "markdown",
   "metadata": {
    "colab_type": "text",
    "id": "wOtlDcthFxip"
   },
   "source": [
    "## Model building"
   ]
  },
  {
   "cell_type": "code",
   "execution_count": 127,
   "metadata": {
    "colab": {},
    "colab_type": "code",
    "id": "zXef38nBFxir",
    "outputId": "7ae99521-46f8-4c6f-9cba-4979deffeee8"
   },
   "outputs": [
    {
     "name": "stdout",
     "output_type": "stream",
     "text": [
      "Model: \"model\"\n",
      "__________________________________________________________________________________________________\n",
      "Layer (type)                    Output Shape         Param #     Connected to                     \n",
      "==================================================================================================\n",
      "input_1 (InputLayer)            [(None, 100)]        0                                            \n",
      "__________________________________________________________________________________________________\n",
      "embedding (Embedding)           (None, 100, 100)     700300      input_1[0][0]                    \n",
      "__________________________________________________________________________________________________\n",
      "lstm (LSTM)                     [(None, 100, 300), ( 481200      embedding[0][0]                  \n",
      "__________________________________________________________________________________________________\n",
      "input_2 (InputLayer)            [(None, None)]       0                                            \n",
      "__________________________________________________________________________________________________\n",
      "lstm_1 (LSTM)                   [(None, 100, 300), ( 721200      lstm[0][0]                       \n",
      "__________________________________________________________________________________________________\n",
      "embedding_1 (Embedding)         (None, None, 100)    98300       input_2[0][0]                    \n",
      "__________________________________________________________________________________________________\n",
      "lstm_2 (LSTM)                   [(None, 100, 300), ( 721200      lstm_1[0][0]                     \n",
      "__________________________________________________________________________________________________\n",
      "lstm_3 (LSTM)                   [(None, None, 300),  481200      embedding_1[0][0]                \n",
      "                                                                 lstm_2[0][1]                     \n",
      "                                                                 lstm_2[0][2]                     \n",
      "__________________________________________________________________________________________________\n",
      "attention_layer (AttentionLayer ((None, None, 300),  180300      lstm_2[0][0]                     \n",
      "                                                                 lstm_3[0][0]                     \n",
      "__________________________________________________________________________________________________\n",
      "concat_layer (Concatenate)      (None, None, 600)    0           lstm_3[0][0]                     \n",
      "                                                                 attention_layer[0][0]            \n",
      "__________________________________________________________________________________________________\n",
      "time_distributed (TimeDistribut (None, None, 983)    590783      concat_layer[0][0]               \n",
      "==================================================================================================\n",
      "Total params: 3,974,483\n",
      "Trainable params: 3,974,483\n",
      "Non-trainable params: 0\n",
      "__________________________________________________________________________________________________\n"
     ]
    }
   ],
   "source": [
    "from keras import backend as K \n",
    "K.clear_session()\n",
    "\n",
    "latent_dim = 300\n",
    "embedding_dim=100\n",
    "\n",
    "# Encoder\n",
    "encoder_inputs = Input(shape=(max_review_len,))\n",
    "\n",
    "#embedding layer\n",
    "enc_emb =  Embedding(X_vocabulary, embedding_dim,trainable=True)(encoder_inputs)\n",
    "\n",
    "#encoder lstm 1\n",
    "encoder_lstm1 = LSTM(latent_dim,return_sequences=True,return_state=True,dropout=0.4,recurrent_dropout=0.4)\n",
    "encoder_output1, state_h1, state_c1 = encoder_lstm1(enc_emb)\n",
    "\n",
    "#encoder lstm 2\n",
    "encoder_lstm2 = LSTM(latent_dim,return_sequences=True,return_state=True,dropout=0.4,recurrent_dropout=0.4)\n",
    "encoder_output2, state_h2, state_c2 = encoder_lstm2(encoder_output1)\n",
    "\n",
    "#encoder lstm 3\n",
    "encoder_lstm3=LSTM(latent_dim, return_state=True, return_sequences=True,dropout=0.4,recurrent_dropout=0.4)\n",
    "encoder_outputs, state_h, state_c= encoder_lstm3(encoder_output2)\n",
    "\n",
    "# Set up the decoder, using `encoder_states` as initial state.\n",
    "decoder_inputs = Input(shape=(None,))\n",
    "\n",
    "#embedding layer\n",
    "dec_emb_layer = Embedding(y_vocabulary, embedding_dim,trainable=True)\n",
    "dec_emb = dec_emb_layer(decoder_inputs)\n",
    "\n",
    "decoder_lstm = LSTM(latent_dim, return_sequences=True, return_state=True,dropout=0.4,recurrent_dropout=0.2)\n",
    "decoder_outputs,decoder_fwd_state, decoder_back_state = decoder_lstm(dec_emb,initial_state=[state_h, state_c])\n",
    "\n",
    "# Attention layer\n",
    "attn_layer = AttentionLayer(name='attention_layer')\n",
    "attn_out, attn_states = attn_layer([encoder_outputs, decoder_outputs])\n",
    "\n",
    "# Concat attention input and decoder LSTM output\n",
    "decoder_concat_input = Concatenate(axis=-1, name='concat_layer')([decoder_outputs, attn_out])\n",
    "\n",
    "#dense layer\n",
    "decoder_dense =  TimeDistributed(Dense(y_vocabulary, activation='softmax'))\n",
    "decoder_outputs = decoder_dense(decoder_concat_input)\n",
    "\n",
    "# Define the model \n",
    "model = Model([encoder_inputs, decoder_inputs], decoder_outputs)\n",
    "\n",
    "model.summary() "
   ]
  },
  {
   "cell_type": "markdown",
   "metadata": {
    "colab_type": "text",
    "id": "0ZVlfRuMUcoP"
   },
   "source": [
    "To overcome any eventual memory issues, we are going to use sparse categorical cross-entropy as loss function to convert the integer sequence to a one-hot vector on the fly. "
   ]
  },
  {
   "cell_type": "code",
   "execution_count": 128,
   "metadata": {
    "colab": {},
    "colab_type": "code",
    "id": "Lwfi1Fm8Fxiz"
   },
   "outputs": [],
   "source": [
    "model.compile(optimizer='rmsprop', loss='sparse_categorical_crossentropy')"
   ]
  },
  {
   "cell_type": "markdown",
   "metadata": {
    "colab_type": "text",
    "id": "p0ykDbxfUhyw"
   },
   "source": [
    "I am monitoring the validation loss (val_loss) to early stopping the model. Our model will stop training once the validation loss increases."
   ]
  },
  {
   "cell_type": "code",
   "execution_count": 129,
   "metadata": {
    "colab": {},
    "colab_type": "code",
    "id": "s-A3J92MUljB"
   },
   "outputs": [],
   "source": [
    "es = EarlyStopping(monitor='val_loss', mode='min', verbose=1,patience=2)"
   ]
  },
  {
   "cell_type": "markdown",
   "metadata": {
    "colab_type": "text",
    "id": "Mw6CVECaUq5b"
   },
   "source": [
    "We’ll train the model on a batch size of 128 and validate it on the holdout set (which is 10% of our dataset):"
   ]
  },
  {
   "cell_type": "code",
   "execution_count": 130,
   "metadata": {
    "colab": {},
    "colab_type": "code",
    "id": "ETnPzA4OFxi3",
    "outputId": "477e374f-7cf2-4d60-f86e-2c49c9cebedb"
   },
   "outputs": [
    {
     "name": "stdout",
     "output_type": "stream",
     "text": [
      "Train on 9228 samples, validate on 1026 samples\n",
      "Epoch 1/50\n",
      "9228/9228 [==============================] - 780s 85ms/sample - loss: 2.4688 - val_loss: 2.1056\n",
      "Epoch 2/50\n",
      "9228/9228 [==============================] - 903s 98ms/sample - loss: 2.1718 - val_loss: 2.0468\n",
      "Epoch 3/50\n",
      "9228/9228 [==============================] - 938s 102ms/sample - loss: 2.1046 - val_loss: 2.0025\n",
      "Epoch 4/50\n",
      "9228/9228 [==============================] - 944s 102ms/sample - loss: 2.0617 - val_loss: 1.9977\n",
      "Epoch 5/50\n",
      "9228/9228 [==============================] - 942s 102ms/sample - loss: 2.0278 - val_loss: 1.9674\n",
      "Epoch 6/50\n",
      "9228/9228 [==============================] - 941s 102ms/sample - loss: 1.9945 - val_loss: 1.9423\n",
      "Epoch 7/50\n",
      "9228/9228 [==============================] - 944s 102ms/sample - loss: 1.9574 - val_loss: 1.9266\n",
      "Epoch 8/50\n",
      "9228/9228 [==============================] - 945s 102ms/sample - loss: 1.9219 - val_loss: 1.9012\n",
      "Epoch 9/50\n",
      "9228/9228 [==============================] - 947s 103ms/sample - loss: 1.8856 - val_loss: 1.8975\n",
      "Epoch 10/50\n",
      "9228/9228 [==============================] - 945s 102ms/sample - loss: 1.8525 - val_loss: 1.8874\n",
      "Epoch 11/50\n",
      "9228/9228 [==============================] - 947s 103ms/sample - loss: 1.8222 - val_loss: 1.8923\n",
      "Epoch 12/50\n",
      "9228/9228 [==============================] - 947s 103ms/sample - loss: 1.7914 - val_loss: 1.9049\n",
      "Epoch 00012: early stopping\n"
     ]
    }
   ],
   "source": [
    "history=model.fit([X_train,y_train[:,:-1]], \n",
    "                  y_train.reshape(y_train.shape[0],y_train.shape[1], 1)[:,1:],\n",
    "                  epochs=50,callbacks=[es],batch_size=64, \n",
    "                  validation_data=([X_test,y_test[:,:-1]], y_test.reshape(y_test.shape[0],y_test.shape[1], 1)[:,1:]))"
   ]
  },
  {
   "cell_type": "markdown",
   "metadata": {
    "colab_type": "text",
    "id": "0ezKYOp2UxG5"
   },
   "source": [
    "### Diagnostic Plot\n"
   ]
  },
  {
   "cell_type": "code",
   "execution_count": 131,
   "metadata": {
    "colab": {},
    "colab_type": "code",
    "id": "tDTNLAURFxjE",
    "outputId": "e2ea6e44-3931-4014-97a1-03fa2a441228"
   },
   "outputs": [
    {
     "data": {
      "image/png": "[encoded data removed]",
      "text/plain": [
       "<Figure size 432x288 with 1 Axes>"
      ]
     },
     "metadata": {
      "needs_background": "light"
     },
     "output_type": "display_data"
    }
   ],
   "source": [
    "from matplotlib import pyplot\n",
    "pyplot.plot(history.history['loss'], label='train')\n",
    "pyplot.plot(history.history['val_loss'], label='test')\n",
    "pyplot.legend()\n",
    "pyplot.show()"
   ]
  },
  {
   "cell_type": "markdown",
   "metadata": {
    "colab_type": "text",
    "id": "HSyx-HvpUz2o"
   },
   "source": [
    "From the plot, we can infer that validation loss has increased after epoch 17 for 2 successive epochs. Hence, training is stopped at epoch 19.\n",
    "\n",
    "Next, let’s build the dictionary to convert the index to word for target and source vocabulary:"
   ]
  },
  {
   "cell_type": "code",
   "execution_count": 132,
   "metadata": {
    "colab": {},
    "colab_type": "code",
    "id": "sBX0zZnOFxjW"
   },
   "outputs": [],
   "source": [
    "reverse_target_word_index=Ytokenizer.index_word\n",
    "reverse_source_word_index=Xtokenizer.index_word\n",
    "target_word_index=Ytokenizer.word_index"
   ]
  },
  {
   "cell_type": "markdown",
   "metadata": {
    "colab_type": "text",
    "id": "eM_nU_VvFxjq"
   },
   "source": [
    "## Inference\n",
    "\n",
    "Set up the inference for the encoder and decoder:"
   ]
  },
  {
   "cell_type": "code",
   "execution_count": 134,
   "metadata": {
    "colab": {},
    "colab_type": "code",
    "id": "9QkrNV-4Fxjt"
   },
   "outputs": [],
   "source": [
    "# Encode the input sequence to get the feature vector\n",
    "encoder_model = Model(inputs=encoder_inputs,outputs=[encoder_outputs, state_h, state_c])\n",
    "\n",
    "# Decoder setup\n",
    "# Below tensors will hold the states of the previous time step\n",
    "decoder_state_input_h = Input(shape=(latent_dim,))\n",
    "decoder_state_input_c = Input(shape=(latent_dim,))\n",
    "decoder_hidden_state_input = Input(shape=(max_review_len,latent_dim))\n",
    "\n",
    "# Get the embeddings of the decoder sequence\n",
    "dec_emb2= dec_emb_layer(decoder_inputs) \n",
    "# To predict the next word in the sequence, set the initial states to the states from the previous time step\n",
    "decoder_outputs2, state_h2, state_c2 = decoder_lstm(dec_emb2, initial_state=[decoder_state_input_h, decoder_state_input_c])\n",
    "\n",
    "#attention inference\n",
    "attn_out_inf, attn_states_inf = attn_layer([decoder_hidden_state_input, decoder_outputs2])\n",
    "decoder_inf_concat = Concatenate(axis=-1, name='concat')([decoder_outputs2, attn_out_inf])\n",
    "\n",
    "# A dense softmax layer to generate prob dist. over the target vocabulary\n",
    "decoder_outputs2 = decoder_dense(decoder_inf_concat) \n",
    "\n",
    "# Final decoder model\n",
    "decoder_model = Model(\n",
    "    [decoder_inputs] + [decoder_hidden_state_input,decoder_state_input_h, decoder_state_input_c],\n",
    "    [decoder_outputs2] + [state_h2, state_c2])"
   ]
  },
  {
   "cell_type": "markdown",
   "metadata": {
    "colab_type": "text",
    "id": "zOiyk4ToWe74"
   },
   "source": [
    "We are defining a function below which is the implementation of the inference process (which we covered [here](https://www.analyticsvidhya.com/blog/2019/06/comprehensive-guide-text-summarization-using-deep-learning-python/)):"
   ]
  },
  {
   "cell_type": "code",
   "execution_count": 135,
   "metadata": {
    "colab": {},
    "colab_type": "code",
    "id": "6f6TTFnBFxj6"
   },
   "outputs": [],
   "source": [
    "def decode_sequence(input_seq):\n",
    "    # Encode the input as state vectors.\n",
    "    e_out, e_h, e_c = encoder_model.predict(input_seq)\n",
    "    \n",
    "    # Generate empty target sequence of length 1.\n",
    "    target_seq = np.zeros((1,1))\n",
    "    \n",
    "    # Populate the first word of target sequence with the start word.\n",
    "    target_seq[0, 0] = target_word_index['sostok']\n",
    "\n",
    "    stop_condition = False\n",
    "    decoded_sentence = ''\n",
    "    while not stop_condition:\n",
    "      \n",
    "        output_tokens, h, c = decoder_model.predict([target_seq] + [e_out, e_h, e_c])\n",
    "\n",
    "        # Sample a token\n",
    "        sampled_token_index = np.argmax(output_tokens[0, -1, :])\n",
    "        sampled_token = reverse_target_word_index[sampled_token_index]\n",
    "        \n",
    "        if(sampled_token!='eostok'):\n",
    "            decoded_sentence += ' '+sampled_token\n",
    "\n",
    "        # Exit condition: either hit max length or find stop word.\n",
    "        if (sampled_token == 'eostok'  or len(decoded_sentence.split()) >= (max_summary_len-1)):\n",
    "            stop_condition = True\n",
    "\n",
    "        # Update the target sequence (of length 1).\n",
    "        target_seq = np.zeros((1,1))\n",
    "        target_seq[0, 0] = sampled_token_index\n",
    "\n",
    "        # Update internal states\n",
    "        e_h, e_c = h, c\n",
    "\n",
    "    return decoded_sentence"
   ]
  },
  {
   "cell_type": "markdown",
   "metadata": {
    "colab_type": "text",
    "id": "6GuDf4TPWt6_"
   },
   "source": [
    "Let us define the functions to convert an integer sequence to a word sequence for summary as well as the reviews:"
   ]
  },
  {
   "cell_type": "code",
   "execution_count": 136,
   "metadata": {
    "colab": {},
    "colab_type": "code",
    "id": "aAUntznIFxj9"
   },
   "outputs": [],
   "source": [
    "def seq2summary(input_seq):\n",
    "    newString=''\n",
    "    for i in input_seq:\n",
    "        if((i!=0 and i!=target_word_index['sostok']) and i!=target_word_index['eostok']):\n",
    "            newString=newString+reverse_target_word_index[i]+' '\n",
    "    return newString\n",
    "\n",
    "def seq2text(input_seq):\n",
    "    newString=''\n",
    "    for i in input_seq:\n",
    "        if(i!=0):\n",
    "            newString=newString+reverse_source_word_index[i]+' '\n",
    "    return newString"
   ]
  },
  {
   "cell_type": "markdown",
   "metadata": {
    "colab_type": "text",
    "id": "9gM4ALyfWwA9"
   },
   "source": [
    "Here are a few summaries generated by the model:"
   ]
  },
  {
   "cell_type": "code",
   "execution_count": 139,
   "metadata": {
    "colab": {},
    "colab_type": "code",
    "id": "BUtQmQTmFxkI",
    "outputId": "f407d9fc-e0cd-4082-98f5-bd1f562dc26f"
   },
   "outputs": [
    {
     "name": "stdout",
     "output_type": "stream",
     "text": [
      "Review: really remarkable microphone around 100 sensitive studio live performances sure set daw insert input channel easily blow volume clipping rich warm tone like tube mics compares audio tech 2020 class say audio tech beat price \n",
      "Original summary: good quality mic price \n",
      "Predicted summary:  great value\n",
      "\n",
      "\n",
      "Review: 3rd set cables ordered amazon needed lengthy cable requirement ordered one finish bad outer layer coated zinc alloy body works fine mixer previous set cables totally 4 cables one develop kind problem months exactly spot guess inner strings somehow gets broken stops working would see goes update review one also would result condition would look something better reason ordered ones pricing expensive replace \n",
      "Original summary: cable \n",
      "Predicted summary:  great cable\n",
      "\n",
      "\n",
      "Review: cleaned polished pretty taylor guitar pretty well would recommend one least buy kind protect investment \n",
      "Original summary: seems work well \n",
      "Predicted summary:  great\n",
      "\n",
      "\n",
      "Review: cables good complaint connectors 1434 bad xlr end looks feels cheap guess cheap good price good performance signal buzz like cables category overall 4 stars \n",
      "Original summary: good quality great price \n",
      "Predicted summary:  great cable\n",
      "\n",
      "\n",
      "Review: 3 doubt works red light always stays never seen green light \n",
      "Original summary: work \n",
      "Predicted summary:  great\n",
      "\n",
      "\n",
      "Review: complain price like job fine really anything could ask comes proper attachment pieces need microphones folds nice small happy around \n",
      "Original summary: job \n",
      "Predicted summary:  great\n",
      "\n",
      "\n",
      "Review: schaller guitar strap locks work really really well however problems first made changes first need put drop lock tight threads nut loosen blue stuff enough second lock grab strap pin guitar screw time kind purpose locks hold button button comes guitar install new button put drop epoxy screw hole first never one unscrew things first never guitar strap fall accident ever remove strap time want easily lock \n",
      "Original summary: put guitars need know something \n",
      "Predicted summary:  great strap\n",
      "\n",
      "\n",
      "Review: one spot works nicely pedal board chain everything needed came combo making ready go right box \n",
      "Original summary: one spot \n",
      "Predicted summary:  great\n",
      "\n",
      "\n",
      "Review: fender amp perfect size practice take along sounds great like headphone mp3 player hookups good value \n",
      "Original summary: nice amp \n",
      "Predicted summary:  great amp\n",
      "\n",
      "\n",
      "Review: thing one else wants say thing built like piece parts always moving around used 3 times shorted lights started flashing got hot called line 6 determined bad opened ticket fyi want deal worst customer service industry call line 6 know talking could hear like big party going wish would never bought hopefully get new one soon well see helpful really \n",
      "Original summary: \n",
      "Predicted summary:  great little amp\n",
      "\n",
      "\n",
      "Review: great effect awesome engineering jim dunlops mxr products always presented true bypass feature highend quality materials make reliable dependable eq sensitive delivers actually believe exceed expectations ships fast highly recommended \n",
      "Original summary: mxr 6 band eq pedal great effect \n",
      "Predicted summary:  great pedal\n",
      "\n",
      "\n",
      "Review: works music light book light single lighting contrary product description music light come 3 aaa batteries least mine note switch using batteries using ac adapter 3 aaa batteries first removed battery housing lights power oni picked music light bright orchestra single head book light many years trust book light offer durability lights save light two goose necks offer lighting music light half price orchestra bottom line lack master switch music light makes turning onoff lights somewhat hassle unfortunate drawback music light functional far durability concerned quite confident last many years come build quality mighty bright book light many years recommended \n",
      "Original summary: mighty sweet deal switch turn lights \n",
      "Predicted summary:  good value\n",
      "\n",
      "\n",
      "Review: used lot capos playing used 4 5 different types easily best capos require certain amount fiddling get hold strings right different guitar one pretty easy dial little trouble getting position gave good clear tones string without mess action grip release mechanism easy delivers firm pressure strings fact negative found height capo made bit difficult fret near higher strings good capo recommend without hesitation \n",
      "Original summary: best used \n",
      "Predicted summary:  great tuner\n",
      "\n",
      "\n",
      "Review: ended returning bought cheaper generic model one better effect less half price unit high quality though \n",
      "Original summary: bright boring effects \n",
      "Predicted summary:  great\n",
      "\n",
      "\n",
      "Review: cable awhile impressed quality plug jack look cheap cable thin use home practice mic much workout think would hold long stage venue \n",
      "Original summary: fair quality \n",
      "Predicted summary:  great cable\n",
      "\n",
      "\n",
      "Review: three kids guitar always losing picks pick holder thing seen picks fit snugly adhesive back stuck nicely guitar highly recommend pick holder anyone needs help keeping guitar picks \n",
      "Original summary: handy \n",
      "Predicted summary:  great picks\n",
      "\n",
      "\n",
      "Review: hosa cable guitar instrument cable high quality instrument cable low cost break bank satisfied purchase \n",
      "Original summary: hosa cable guitar instrument cable \n",
      "Predicted summary:  great cable\n",
      "\n",
      "\n",
      "Review: son cleaning guitars opening gift christmas morning pleased product \n",
      "Original summary: worth \n",
      "Predicted summary:  great\n",
      "\n",
      "\n",
      "Review: good quick tune might little tight checking intonation fast readout fast \n",
      "Original summary: easy use \n",
      "Predicted summary: \n",
      "\n",
      "\n",
      "Review: love makes plugging lot stomp boxes easy quiet power supply lots cables end caps adapters would pay single power adapter nice dig half dozen power supplies set play thing missing would right angle adapters sure find quality cord extremely long dc power supply \n",
      "Original summary: save one plug \n",
      "Predicted summary:  great little amp\n",
      "\n",
      "\n",
      "Review: wise unit decent cannot noise wound pulling cleaner compressor \n",
      "Original summary: \n",
      "Predicted summary:  great\n",
      "\n",
      "\n",
      "Review: recently bought first electric guitar thoroughly enjoy lot power noise behind little starter amp case picture little cranked quite loud produces clean sound without terrible distortion distortion sounds great solid piece work makes great practice amp possibly great starter amp \n",
      "Original summary: fun amp \n",
      "Predicted summary:  great little amp\n",
      "\n",
      "\n",
      "Review: lose picks constantly years ago placing neck guitar playing course leads bent picks still lost picks thing great load hard soft picks easily swap songs best 3 ever spent \n",
      "Original summary: want \n",
      "Predicted summary:  great picks\n",
      "\n",
      "\n",
      "Review: used pick play time used white color thinnest one like use thin ones play strumming time one works perfect easy grip last long one thing point print pick fades away quickly mind highly anyone needs pick \n",
      "Original summary: good guitar pick \n",
      "Predicted summary:  great picks\n",
      "\n",
      "\n",
      "Review: installed saddle silvertone sd10 lower end guitar make huge difference sand directions length first thickness finally height used 220 grit sandpaper directions package \n",
      "Original summary: great guitar saddle \n",
      "Predicted summary:  great\n",
      "\n",
      "\n",
      "Review: strap genuine suede leather really comfortable lots friction sliding around shoulders playing plenty long guitar size shoulder width adjusting like leather straps taylor logo makes look good bad say strap \n",
      "Original summary: perfect taylor super comfortable \n",
      "Predicted summary:  great strap\n",
      "\n",
      "\n",
      "Review: fits nicely acoustic guitars requires dampen sponge distilled water luckily keep hand \n",
      "Original summary: easy install \n",
      "Predicted summary:  great\n",
      "\n",
      "\n",
      "Review: bought hollowbody without case wanted gig bag case decided take anywhere prices bags double one almost four times guitars cases might never actually take guitar anywhere spend lot price big issue guitar fits great bag well padded believe price \n",
      "Original summary: fit reasonable price \n",
      "Predicted summary:  great stand\n",
      "\n",
      "\n",
      "Review: nothing wrong stand life cannot imagine manufacturer could manage screw plain old straight mic stand \n",
      "Original summary: mic stand \n",
      "Predicted summary:  great stand\n",
      "\n",
      "\n",
      "Review: nice many types idea thickness would like also helped decide also \n",
      "Original summary: nice variety \n",
      "Predicted summary:  great\n",
      "\n",
      "\n",
      "Review: great bad well base strings feel really strange sliding 6th string 1st string cut playing change second day installed bending feels easy \n",
      "Original summary: expected \n",
      "Predicted summary:  best\n",
      "\n",
      "\n",
      "Review: wow never buy another sm57 believe writing found microphone seriously sound quality never disappointed fact might head prefer use micing guitar amp everyone else talked sound want talk build solid weight plastic top feels exactly right far come loose way sm57s handed sm57 know better would probably guess es57 bit higherend continually look believe paid 30 one get bunch sell sm57s 60 turn two magic \n",
      "Original summary: meets expectations every \n",
      "Predicted summary:  great little amp\n",
      "\n",
      "\n",
      "Review: works exactly like ad says would eliminates pops secondary noises background easy install nice looking \n",
      "Original summary: pop filter \n",
      "Predicted summary:  great product\n",
      "\n",
      "\n",
      "Review: arrived time epiphone hummingbird acoustic guitar needed pickup works well loud thing sound louder next time buy duncan pickup \n",
      "Original summary: ok price \n",
      "Predicted summary:  great\n",
      "\n",
      "\n",
      "Review: researching overdrive pedals seemed like forever chose fulltone ocd reviews amazon helped well along youtube demos guitar mags finally made choice found used one last 2 yous befor fulltone made pedal versatile overdrive switch alone gives distinct tone solos rhythm tweaking dials adds fun constantly playing tones minor adjustment makes huge difference coolest thing pedal responsive playing dynamics picking softly dials od crunch harder better trying rolloff volume truebypass great lose original signal engaged favorite piece looking massive distortion keep looking go pedal quite time \n",
      "Original summary: \n",
      "Predicted summary:  great pedal\n",
      "\n",
      "\n",
      "Review: want pay patch cables somehow makes feel secure go otherwise pick great price certainly gets job done colors fit may rig perhaps use feature plus appear solid likely last fine \n",
      "Original summary: get job done \n",
      "Predicted summary:  great cable\n",
      "\n",
      "\n",
      "Review: heavy music guitarist highly recommend one try set feel like rock star \n",
      "Original summary: ernie ball slinky \n",
      "Predicted summary:  great\n",
      "\n",
      "\n",
      "Review: love amp reasons solidly made everything high quality best comes fender fuse software hook pc using usb cable included amps features actual settings even touching knobs including special effects like various stomp box effects like reverb distortion phaser factory presets dials etc even select different amps pc screen visually also go online app download presets people created want play pink floyd song download david gilmour preset go got dark side moon wall preset ready go cool 20 watts beats 10 works record directly amp pc software program \n",
      "Original summary: deal bought two \n",
      "Predicted summary:  great little amp\n",
      "\n",
      "\n",
      "Review: toy well instrument material wood decent quality plain wood nice tone colors good rings around hole back strings oxidation made shipped metal strings consideration beginner sounds good prefer sound metal guitar anyway beginner intermediate player needs nice instrument hanging around home occasional strum pleasant addition home guitars wife learning guitar loves costs 10 mine costs mind playing plastic plate front protects strumming even feel good guitar highly recommended occasional strummer \n",
      "Original summary: nice guitar \n",
      "Predicted summary:  great value\n",
      "\n",
      "\n",
      "Review: low adding distortion pedals effects base sound second could think strictly pedal turn parts songs want effect however one nice feature overdriven tone provided pedal tone cleans nicely turn volume final note build quality joyo california box looks fantastic switch click metal button similar used mxr pedals back cover 9v battery dc 9v adapter jack works standard 9v adapters boss onespot sorry length review wanted provide good information based experiences since struggled find honest reviews research promise everyone like considering poor quality 40 pedals used buy dod danelectro ibanez growing pretty hard regret giving joyo california serious look price enjoy \n",
      "Original summary: outstanding value versatility thick sounds \n",
      "Predicted summary:  great pedal great price\n",
      "\n",
      "\n",
      "Review: capo solid well made use seagull acoustic fender stratocaster problems \n",
      "Original summary: nice capo \n",
      "Predicted summary:  great tuner\n",
      "\n",
      "\n",
      "Review: part use eq wash bit quite quite sibilance prone price known shure ev come models mxl etc fun \n",
      "Original summary: good \n",
      "Predicted summary:  great\n",
      "\n",
      "\n",
      "Review: pedal simplei 4 5 joyo overdrive pedals love fell love one volume gain maximum loudness back guitar volume cleans ready turn guitar sounding hard call really good clear powerful \n",
      "Original summary: one best ever \n",
      "Predicted summary:  great pedal\n",
      "\n",
      "\n",
      "Review: winder cuts pin puller fit guitar pins even though ad claims 34it fits virtually guitars banjos oh learned \n",
      "Original summary: good excellent \n",
      "Predicted summary:  great\n",
      "\n",
      "\n",
      "Review: gave product 5 stars simply exactly bought reduce unwanted noise amp play controls get exact settings clipping sustained notes want cut noise playing comes kills noise two lights pedal one comes pedal working reducing noise set high sensitive recognize end sustained note noise play find personal setting sure every guitar pedal board unique sounds start guitar go pedal chain amp works soon understand best job happy oh switch mute works switch also beat price \n",
      "Original summary: adding noise pedal effects chain \n",
      "Predicted summary:  great little amp\n",
      "\n",
      "\n",
      "Review: like feel sound strings bought 010 011 hurt fingers sound like tin would buy \n",
      "Original summary: like \n",
      "Predicted summary:  great strings\n",
      "\n",
      "\n",
      "Review: using one spot power gator small pedalboard 8 years time done probably 200 gigs never problem super quiet pedals amps gain single coil pickups noise fact life never found excessive turn volume guitar way playingi would recommend anyone looking affordable solution powering pedalboard \n",
      "Original summary: great cheap way power pedalboard \n",
      "Predicted summary:  great little amp\n",
      "\n",
      "\n",
      "Review: moment started using noticed radio signal used mini amp headphones \n",
      "Original summary: eh adaptor \n",
      "Predicted summary:  great\n",
      "\n",
      "\n",
      "Review: put martin sound great big guitar really rings elixir strings great sparkle clear bright tone playing rhythm guitar flat picking say last longer vine us review soon possible daily playing hours sound fine hold tuning used elixir nano web strings think keep tone bit longer said go strings still daddario \n",
      "Original summary: good guitar good strings \n",
      "Predicted summary:  great strings\n",
      "\n",
      "\n",
      "Review: though pretty cheap pedals go luck would acquired one trade admit agree whole blanket stompbox helps correct boxy sound blues jr placed end pedaltrain right run amp feel needs run dedicated effects loop improve amps tone though believe works even better loop placed effects loop palomino made crate 5 watt usa made tube amp speaker amps tone great way well single coils pedal would leave time tone dialed think works well run lp jet city combo particularly trying coax subtle textures harmonics amp also lacks effects loop imagine would different effect placed preamp phase guess rig dependent keeper sound fender \n",
      "Original summary: times \n",
      "Predicted summary:  good pedal price\n",
      "\n",
      "\n",
      "Review: love fit sound quality come loose wiggle place get one \n",
      "Original summary: good sound tight fit \n",
      "Predicted summary:  great\n",
      "\n",
      "\n",
      "Review: descent quality cables great price many good basic cable love price shipped quickly \n",
      "Original summary: good cables \n",
      "Predicted summary:  great cable\n",
      "\n",
      "\n",
      "Review: price beat work great year still working like day got great buy \n",
      "Original summary: good unit \n",
      "Predicted summary:  great\n",
      "\n",
      "\n",
      "Review: versatile tuner automatically tunes string pick tune away also shows chords case forgotten things tuner price great buy \n",
      "Original summary: great tuner \n",
      "Predicted summary:  great\n",
      "\n",
      "\n",
      "Review: ring nicely like bottom e tad thicker usual light sets 100 pretty bright extra oomph nice big believer amp fix string issues much easily bass guitar merely dialing little treble even rolling volume bit bass take care popping slapping come loud clear really like feel low e thumb pop thesei play pbass index middle thumb punch nicely scale length pickups also like get plenty loud full definition plenty top end brittle trace amp would exact players bet would kill themi think perfect funk excellent almost rock styles obviously flats better jazz make good allaround string less 20 clams great deal \n",
      "Original summary: \n",
      "Predicted summary:  great value\n",
      "\n",
      "\n",
      "Review: replaced factory strings junior solid body electric guitar metallic silver 34 difference sound strings seriously rock also use daddario strings ukulele great luck withstand lot play replace often best part sound much brighter louder definitely recommended \n",
      "Original summary: sweet sound music \n",
      "Predicted summary:  great strings\n",
      "\n",
      "\n",
      "Review: even better light colors different flat sharp makes even easier may seem like big deal tuning alone house stage people lot last minute adjustments attention place little details really real drawback see design place head 6 string acoustic conveniently clip without somewhat way tuning knobs impossible terribly convenient either seemingly designed electric style mind knobs often one straight line either side guitar 80 tuner bought 20 years ago quite frankly 20 years later still works well bought fact price come bought another one keep different guitar case one still use home like one better stage low profile looks professional like \n",
      "Original summary: accurate tuner convenient \n",
      "Predicted summary:  good value\n",
      "\n",
      "\n",
      "Review: much get excited guitar stand however job price right purchased four delivered time adjusted held guitar securely found stand stable seem secure ad heavy enough job music teacher similar stand cost much appear better quality \n",
      "Original summary: deal \n",
      "Predicted summary:  great stand\n",
      "\n",
      "\n",
      "Review: bought strap luna 12 string strap comfortable durable exactly needed \n",
      "Original summary: great strap \n",
      "Predicted summary:  great strap\n",
      "\n",
      "\n",
      "Review: pretty good way hold mic want amplify percussion traditional french canadian music base really heavy makes stay place well pain carry around also since buying found could use shoe mount mic feet would bit cheaper \n",
      "Original summary: foot \n",
      "Predicted summary:  great mic price\n",
      "\n",
      "\n",
      "Review: fan years occasionally use strings fun always go strings every time feel great fingers long period time sliding easy keep tone forever seems like recommend everyone talk plays guitar always stick get sorry \n",
      "Original summary: get \n",
      "Predicted summary:  great strings\n",
      "\n",
      "\n",
      "Review: wood pipe metal brace stand wall providing comfortable clearance headstocks removing worry fall worth design hold variety instrument body shapes trick find optimum balance point hard fit acoustic bass guitar ibanez artist strat bass jbass martin long neck bouzouki sixstring banjo nick recording king acoustic said max seven slots use 5 simply different shapes make strap instrument easy close storing electric guitars basses similar shapes might comfortable six even would use stand stage stage mean setting people moving might come contact including house party basement jam session etc simply sturdy enough needs works well saves lot floor space tight begin \n",
      "Original summary: got trust \n",
      "Predicted summary:  great bag\n",
      "\n",
      "\n",
      "Review: one camping whatever get cold run wood almost cheap enough thing may may know resale value go certain online notice people ask 50 bucks sometimes 100 used people know cost new one cases would buy new used decide sell long pieces still bring 2030 bucks used much really good instrument little work lucky might actually set right get though big deal fix stated elsewhere bad would surprised many mandolins years ago alot still around even big makers neck year two big deal got moneys worth kicking around awhile last year 7 year old 6 time beating still pick tune play \n",
      "Original summary: good entry level starter mandolin \n",
      "Predicted summary:  great value\n",
      "\n",
      "\n",
      "Review: capos wonderful perfect way around long lasting backed company three \n",
      "Original summary: kyser makes best \n",
      "Predicted summary: \n",
      "\n",
      "\n",
      "Review: another soft cotton cloth cleaned nicely since keep guitar polished clean using planet waves microfiber polish cloth leave scratches marks used without liquid also problems breaking leaving lint pieces cloth want use another cloth clean fretboard one use fretboard gets lot oily dirt repeated play would oils fret board get microfiber cloth transfer guitarso like lot things life limitations everything gave untreated microfiber stars fine job keeping guitar clean polished minimal effort based upon cloth would clean oils around trouble worth use microfiber cloth like cloth recommend purposes minor dirt grime guitar case particular guitar finish use time done playing \n",
      "Original summary: good planet waves microfiber polish cloth \n",
      "Predicted summary:  good value\n",
      "\n",
      "\n",
      "Review: say best best would use anything else guitar get best tonal quality strings seem last longer others used highly recommend \n",
      "Original summary: get better \n",
      "Predicted summary:  great\n",
      "\n",
      "\n",
      "Review: little skeptical used strap lock systems took chance works well lp strap lock well thought seems weak spots really like \n",
      "Original summary: works well \n",
      "Predicted summary:  great strap\n",
      "\n",
      "\n",
      "Review: seven use ibanez perfect series guitars like bag well padded seems always back order tells dimensions bout 3 deep two large zippers head zipper goes bout zipper stops bottom area draw back bag deeper guitars want bottom bout zipper least complete bottom make placing removing best gig bag found last years smaller bout guitars cost much \n",
      "Original summary: perfect smaller guitars \n",
      "Predicted summary:  great product\n",
      "\n",
      "\n",
      "Review: yes 10mm tortex picks blue quite surprised number reviewers complained getting pack anyone ever guitar shop tortex picks color playing guitar 15 years using blue tortex picks 14 first messed around different picks could get hands small fender brand slippery guitar center brand wore quickly jim dunlop nylon picks felt weird 10mm tortex give right sound attack feel flimsy fingers keep tight grip grip far superior market gator grips feel durability wise lose pick even comes close wearing \n",
      "Original summary: blue tortex go \n",
      "Predicted summary:  great picks\n",
      "\n",
      "\n",
      "Review: past always guessed tight make lug drums takes guess work tuning hides setting particular octave get sound want least know lugs hide pretty close torque also easy \n",
      "Original summary: pretty neat tool \n",
      "Predicted summary:  great product\n",
      "\n",
      "\n",
      "Review: question leather part since say kind leather suppose fine still good strap either way \n",
      "Original summary: nice strap \n",
      "Predicted summary:  great strap\n",
      "\n",
      "\n",
      "Review: pop filter works great really eliminated many subtle flaws audio recording granted make pop filter using hollow ring nylon adjustable clamp adjustable fits many unique mic placement situations plus although flexible also sturdy worry vibration noises coming \n",
      "Original summary: works great \n",
      "Predicted summary:  great value\n",
      "\n",
      "\n",
      "Review: range badly compensate hear mixed m1 speakers give behringer truth speakers really thought sounded excellent every frequency detailed every range behringers also power needed active speakers played really loud studio without distortion except describe muddy clearly detailed low end love speakers fortunately friends studio great pro studio saw using isolators speakers said loved bought placed speakers project working wow difference immediate difference bass nicely detailed muddy tone longer eq lower frequencies cut back almost new mix immediately bought 2nd set small speakers take chance also reproducing accurately isolators great product problem saved buying new speakers still problem cheap foam think \n",
      "Original summary: excellent product \n",
      "Predicted summary:  good value\n",
      "\n",
      "\n",
      "Review: bought one snarks super tight tuners found less advertised get tune tuner much better job lot less going buy another one studio one stage rig buy great little tuner \n",
      "Original summary: best tuner \n",
      "Predicted summary:  great tuner\n",
      "\n",
      "\n",
      "Review: overall pretty good stand sturdy good adjustable heights good value lots stuff need hang took one star bottom part kind awkward fro holding guitar guitar strap peg bottom thing touching bottom stand make sit easy fall fall number times thinking could designed bottom wider also edges guitars always touching enough room stand \n",
      "Original summary: good \n",
      "Predicted summary:  great stand\n",
      "\n",
      "\n",
      "Review: wahs usable sound supposed play chains man box digitech going cut time get real wah searched around youtube demos talked people see used chose 535q people told never maintenance problem get several kinds wah sounds tweaking great suggestions manual get started set mine setting left mainly use wah playing early alternative 90s hard rock styles setting works songs like well including create white noise scratch dj still use wah pedals terribly often nice reliable wah whatever need simply adjusting couple knobs think long need wah pedal one suit needs many styles think remain pedalboard years definitely one consider price bad \n",
      "Original summary: one \n",
      "Predicted summary:  great\n",
      "\n",
      "\n",
      "Review: title says literally better deal net quality receive using cables happily 2 months problems looking good trs \n",
      "Original summary: best deal \n",
      "Predicted summary:  great cable\n",
      "\n",
      "\n",
      "Review: works splits two middle strings way peace mind allows comfortable made thinner stretch strings much fit thin sponge dries easy far california planet waves think make thicker instead splitting strings redesign mount say velcro still hangs sound hall attached strings possible attach product different way modified mine personal preference works without splitting screen \n",
      "Original summary: advertised \n",
      "Predicted summary:  great product\n",
      "\n",
      "\n",
      "Review: get replacement screws right ten dollars seen sm58s dented rusty dusty spit pieces missing hardwood stage full weight boom stand adding mass fall yet never seen one stop working malfunction due onoff switch got dirt shure mics top quality pro line shures also hold value well buy one decide like get paid ebay would compare many mics possible buying one mics sound really good worth look sm58 number one onstage vocal mic future people follow crowd instead actually trying different mics picking one works best particular voice things durable even stopped making today would still around another 20 years least \n",
      "Original summary: good vocals \n",
      "Predicted summary:  great value\n",
      "\n",
      "\n",
      "Review: five stars works digitech guitar processor requires 9 volts 75 milliamps output 300 milliamps electronics voltage correct draw many amps current needs adapter used guitar processor used devices draw 300 sure 9v device require 300 deliver power adapter cannot love power adapter \n",
      "Original summary: would call love \n",
      "Predicted summary:  great\n",
      "\n",
      "\n",
      "Review: collecting unique guitar picks putting pick display cases great pick using 5 play well \n",
      "Original summary: really fun guitar picks \n",
      "Predicted summary:  good picks\n",
      "\n",
      "\n",
      "Review: using mxr micro chorus 30 years get better mxr might little old get pay sound give try love best doc \n",
      "Original summary: one best \n",
      "Predicted summary:  great pedal\n",
      "\n",
      "\n",
      "Review: like lot better others easy stays put worth money \n",
      "Original summary: good deal \n",
      "Predicted summary:  great\n",
      "\n",
      "\n",
      "Review: happy strap button purchased however sent wrong one big deal \n",
      "Original summary: purchase comments \n",
      "Predicted summary:  great strap\n",
      "\n",
      "\n",
      "Review: hard soft friend gave pick missed using everyone preference like feel bought 12 pack awesome lost like 3 already hey use electric acoustic guitar \n",
      "Original summary: love picks \n",
      "Predicted summary:  great picks\n",
      "\n",
      "\n",
      "Review: cheap buy nice straps acoustic sure would feel heavy electric \n",
      "Original summary: yes work \n",
      "Predicted summary:  great\n",
      "\n",
      "\n",
      "Review: used use fender medium picks jazz metal use pick try see right \n",
      "Original summary: classic \n",
      "Predicted summary:  good picks\n",
      "\n",
      "\n",
      "Review: strings poor sore light play make easier building callouses \n",
      "Original summary: big improvement \n",
      "Predicted summary:  great strings\n",
      "\n",
      "\n",
      "Review: familiar pedaltrain products know solid product new effects comes plenty velcro mount pedals brackets mount power brick deal voodoo bricks always fit keep mind drill holes brackets bag comes lots padding pockets pretty durable power strip fit around edges bag fit inside bag snug said couple extra pedals board fit pouch side along strings cables \n",
      "Original summary: pedaltrain \n",
      "Predicted summary:  great little amp\n",
      "\n",
      "\n",
      "Review: install full dunlop strap lock guitar strap strap becomes unusable guitar equipped dunlop buttons since use 3 straps 3 guitars make much sense buy full strap locks concern ordered buttons might exactly like dunlops securely keep guitar strap buttons look act exactly like ones come full set strap locks testing set purchased buttons guitars side benefit fully functional used guitar strap equipped dunlop locks \n",
      "Original summary: good expected \n",
      "Predicted summary:  great strap\n",
      "\n",
      "\n",
      "Review: supposed well made think look cheap unless get studio professional grade screen pops easily pop back works well home recording \n",
      "Original summary: decent pop filter \n",
      "Predicted summary:  great\n",
      "\n",
      "\n",
      "Review: love little guys small size forces hold tips exposed nice textured grip bought red ones time see drop \n",
      "Original summary: great little jazz picks \n",
      "Predicted summary:  great\n",
      "\n",
      "\n",
      "Review: bought practice 180 amp looking something little portable came great distortion effect pretty awesome lead cuts clean general tend get little noisy though however price probably one best ever like said name brand amp estimated around 180 safely say sound quality item good amp afford really good amp primary one really problem sound builtin plug aux letting play item get hope never breaks \n",
      "Original summary: better amps \n",
      "Predicted summary:  great amp\n",
      "\n",
      "\n",
      "Review: toy good pickup functions sound great want price anyway \n",
      "Original summary: works \n",
      "Predicted summary:  great cable\n",
      "\n",
      "\n",
      "Review: kind small hand works great easier pick string pack comes 6 picks \n",
      "Original summary: works great \n",
      "Predicted summary:  great\n",
      "\n",
      "\n",
      "Review: effects good controls setups clumsy kind annoying could live \n",
      "Original summary: good effects \n",
      "Predicted summary:  great pedal\n",
      "\n",
      "\n",
      "Review: tried several different kinds guitar tuners ones tried snark best precise easier operate simply looks prettier highly recommend tuner \n",
      "Original summary: excellent guitar tuners \n",
      "Predicted summary:  great\n",
      "\n",
      "\n",
      "Review: little fellow great proper connection focusrite comes box hooks usb port macbook pro everything else plugs right hassle right jacks stuff headphone jack different size went 18 1434 reducer hand turn computer play guitars without opening program recording using garage band works great anytime get product works suppose without lot hassle hooking cables stuff 5 star book oh two ports speakers back side used yet trying decide speakers purchase \n",
      "Original summary: low cost good product \n",
      "Predicted summary:  great value\n",
      "\n",
      "\n",
      "Review: like getting rid extra adaptors special power strip works well ibanez mxr boss pedals outside adaptor socket seem work well vox wah old mxr distortion plus fulltone pedals using 9v battery adaptor wah dist get really weird random noise wah one get wah playing well another pedal chain operating problems dist get slightly louder hum fulltone pedals newer pedals issues one spot power supply would say maybe sure \n",
      "Original summary: may \n",
      "Predicted summary:  great pedal\n",
      "\n",
      "\n",
      "Review: loyal brands whole reach pick hope one get wear get nicks remember keep ordering watch steve secret edge worn picks wipe pick edge carpet motion trying cut carpet edge pick repeat 3 4 times know edge smooth nice \n",
      "Original summary: favorite pick 30 years \n",
      "Predicted summary:  great picks\n",
      "\n",
      "\n"
     ]
    }
   ],
   "source": [
    "for i in range(0,100):\n",
    "    print(\"Review:\",seq2text(X_train[i]))\n",
    "    print(\"Original summary:\",seq2summary(y_train[i]))\n",
    "    print(\"Predicted summary:\",decode_sequence(X_train[i].reshape(1,max_review_len)))\n",
    "    print(\"\\n\")"
   ]
  }
 ],
 "metadata": {
  "colab": {
   "collapsed_sections": [],
   "name": "How to build own text summarizer using deep learning.ipynb",
   "provenance": [],
   "version": "0.3.2"
  },
  "kernelspec": {
   "display_name": "Python 3",
   "language": "python",
   "name": "python3"
  },
  "language_info": {
   "codemirror_mode": {
    "name": "ipython",
    "version": 3
   },
   "file_extension": ".py",
   "mimetype": "text/x-python",
   "name": "python",
   "nbconvert_exporter": "python",
   "pygments_lexer": "ipython3",
   "version": "3.7.9"
  }
 },
 "nbformat": 4,
 "nbformat_minor": 4
}
